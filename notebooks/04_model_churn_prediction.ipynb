{
 "cells": [
  {
   "cell_type": "markdown",
   "id": "4f62326f",
   "metadata": {},
   "source": [
    "# Predicting User Churn from Feature Matrix"
   ]
  },
  {
   "cell_type": "code",
   "execution_count": 27,
   "id": "4ad87991",
   "metadata": {},
   "outputs": [],
   "source": [
    "import pandas as pd\n",
    "import numpy as np\n",
    "import matplotlib.pyplot as plt\n",
    "import seaborn as sns\n",
    "from sklearn.model_selection import train_test_split\n",
    "from sklearn.preprocessing import StandardScaler\n",
    "from sklearn.ensemble import RandomForestClassifier\n",
    "from sklearn.metrics import classification_report, confusion_matrix, roc_auc_score, roc_curve\n",
    "from imblearn.over_sampling import SMOTE"
   ]
  },
  {
   "cell_type": "code",
   "execution_count": 11,
   "id": "58768dbb",
   "metadata": {},
   "outputs": [],
   "source": [
    "sns.set(style=\"whitegrid\")\n",
    "\n",
    "# Load the data\n",
    "PROCESSED_PATH = \"../data/processed/parquet/\"\n",
    "df = pd.read_parquet(PROCESSED_PATH + \"user_feature_matrix.parquet\")"
   ]
  },
  {
   "cell_type": "markdown",
   "id": "80e52e32",
   "metadata": {},
   "source": [
    "# ─────────────────────────────────────────────\n",
    "# 1️⃣ Feature Selection\n",
    "# ─────────────────────────────────────────────"
   ]
  },
  {
   "cell_type": "code",
   "execution_count": 12,
   "id": "30d5e08e",
   "metadata": {},
   "outputs": [],
   "source": [
    "features = [\"avg_minutes\", \"avg_data\", \"avg_satisfaction\", \"age\", \"is_enterprise\"]\n",
    "target = \"churned\"\n",
    "\n",
    "X = df[features]\n",
    "y = df[target]"
   ]
  },
  {
   "cell_type": "code",
   "execution_count": 20,
   "id": "613a331f",
   "metadata": {},
   "outputs": [
    {
     "name": "stdout",
     "output_type": "stream",
     "text": [
      "Churn Class Distribution:\n",
      " churned\n",
      "0    0.866\n",
      "1    0.134\n",
      "Name: proportion, dtype: float64\n"
     ]
    }
   ],
   "source": [
    "# Show class distribution\n",
    "print(\"Churn Class Distribution:\\n\", y.value_counts(normalize=True))"
   ]
  },
  {
   "cell_type": "markdown",
   "id": "f0e5c0da",
   "metadata": {},
   "source": [
    "# ─────────────────────────────────────────────\n",
    "# 2️⃣ Train-Test Split\n",
    "# ─────────────────────────────────────────────"
   ]
  },
  {
   "cell_type": "code",
   "execution_count": null,
   "id": "579af3c7",
   "metadata": {},
   "outputs": [],
   "source": [
    "X_train, X_test, y_train, y_test = train_test_split(X, y, stratify=y, test_size=0.25, random_state=42)"
   ]
  },
  {
   "cell_type": "markdown",
   "id": "a92c1ccc",
   "metadata": {},
   "source": [
    "# ─────────────────────────────────────────────\n",
    "# 3️⃣ Feature Scaling\n",
    "# ─────────────────────────────────────────────"
   ]
  },
  {
   "cell_type": "code",
   "execution_count": 14,
   "id": "27c9fbb4",
   "metadata": {},
   "outputs": [],
   "source": [
    "scaler = StandardScaler()\n",
    "X_train_scaled = scaler.fit_transform(X_train)\n",
    "X_test_scaled = scaler.transform(X_test)"
   ]
  },
  {
   "cell_type": "markdown",
   "id": "79d1265a",
   "metadata": {},
   "source": [
    "# ─────────────────────────────────────────────\n",
    "# 4️⃣ Train Model\n",
    "# ─────────────────────────────────────────────"
   ]
  },
  {
   "cell_type": "code",
   "execution_count": 35,
   "id": "a8ec8e4c",
   "metadata": {},
   "outputs": [
    {
     "name": "stdout",
     "output_type": "stream",
     "text": [
      "After SMOTE:\n",
      " churned\n",
      "0    325\n",
      "1    325\n",
      "Name: count, dtype: int64\n"
     ]
    }
   ],
   "source": [
    "smote = SMOTE(random_state=42)\n",
    "X_resampled, y_resampled = smote.fit_resample(X_train_scaled, y_train)\n",
    "\n",
    "print(\"After SMOTE:\\n\", pd.Series(y_resampled).value_counts())"
   ]
  },
  {
   "cell_type": "code",
   "execution_count": null,
   "id": "e6e6abed",
   "metadata": {},
   "outputs": [],
   "source": [
    "model = RandomForestClassifier(class_weight='balanced', random_state=42)\n",
    "model.fit(X_resampled, y_resampled)"
   ]
  },
  {
   "cell_type": "markdown",
   "id": "076757b6",
   "metadata": {},
   "source": [
    "# ─────────────────────────────────────────────\n",
    "# 5️⃣ Evaluation\n",
    "# ─────────────────────────────────────────────"
   ]
  },
  {
   "cell_type": "code",
   "execution_count": 31,
   "id": "4d334797",
   "metadata": {},
   "outputs": [
    {
     "name": "stdout",
     "output_type": "stream",
     "text": [
      "Classification Report:\n",
      "               precision    recall  f1-score   support\n",
      "\n",
      "           0       0.84      0.81      0.82       108\n",
      "           1       0.05      0.06      0.05        17\n",
      "\n",
      "    accuracy                           0.70       125\n",
      "   macro avg       0.45      0.43      0.44       125\n",
      "weighted avg       0.74      0.70      0.72       125\n",
      "\n",
      "Confusion Matrix:\n",
      " [[87 21]\n",
      " [16  1]]\n",
      "ROC AUC: 0.41476034858387795\n"
     ]
    }
   ],
   "source": [
    "y_pred = model.predict(X_test_scaled)\n",
    "y_proba = model.predict_proba(X_test_scaled)[:, 1]\n",
    "\n",
    "print(\"Classification Report:\\n\", classification_report(y_test, y_pred))\n",
    "print(\"Confusion Matrix:\\n\", confusion_matrix(y_test, y_pred))\n",
    "print(\"ROC AUC:\", roc_auc_score(y_test, y_proba))"
   ]
  },
  {
   "cell_type": "markdown",
   "id": "d1c0614f",
   "metadata": {},
   "source": [
    "# ─────────────────────────────────────────────\n",
    "# 6️⃣ ROC Curve\n",
    "# ─────────────────────────────────────────────"
   ]
  },
  {
   "cell_type": "code",
   "execution_count": 32,
   "id": "4d14091a",
   "metadata": {},
   "outputs": [
    {
     "data": {
      "image/png": "[encoded data removed]",
      "text/plain": [
       "<Figure size 600x400 with 1 Axes>"
      ]
     },
     "metadata": {},
     "output_type": "display_data"
    }
   ],
   "source": [
    "fpr, tpr, thresholds = roc_curve(y_test, y_proba)\n",
    "plt.figure(figsize=(6, 4))\n",
    "plt.plot(fpr, tpr, label=f\"AUC = {roc_auc_score(y_test, y_proba):.2f}\")\n",
    "plt.plot([0, 1], [0, 1], linestyle=\"--\", color=\"gray\")\n",
    "plt.xlabel(\"False Positive Rate\")\n",
    "plt.ylabel(\"True Positive Rate\")\n",
    "plt.title(\"ROC Curve\")\n",
    "plt.legend()\n",
    "plt.tight_layout()\n",
    "plt.show()"
   ]
  },
  {
   "cell_type": "markdown",
   "id": "f231a710",
   "metadata": {},
   "source": [
    "# ─────────────────────────────────────────────\n",
    "# 7️⃣ Feature Importance\n",
    "# ─────────────────────────────────────────────"
   ]
  },
  {
   "cell_type": "code",
   "execution_count": 33,
   "id": "ad3e6276",
   "metadata": {},
   "outputs": [
    {
     "data": {
      "image/png": "[encoded data removed]",
      "text/plain": [
       "<Figure size 800x400 with 1 Axes>"
      ]
     },
     "metadata": {},
     "output_type": "display_data"
    }
   ],
   "source": [
    "importances = model.feature_importances_\n",
    "coeffs = pd.DataFrame({\n",
    "    \"Feature\": features,\n",
    "    \"Importance\": importances\n",
    "}).sort_values(by=\"Importance\", ascending=False)\n",
    "\n",
    "plt.figure(figsize=(8, 4))\n",
    "sns.barplot(data=coeffs, x=\"Importance\", y=\"Feature\")\n",
    "plt.title(\"Random Forest Feature Importances\")\n",
    "plt.tight_layout()\n",
    "plt.show()"
   ]
  },
  {
   "cell_type": "code",
   "execution_count": 36,
   "id": "22f8c3cf",
   "metadata": {},
   "outputs": [
    {
     "data": {
      "text/plain": [
       "['../models/churn_scaler.pkl']"
      ]
     },
     "execution_count": 36,
     "metadata": {},
     "output_type": "execute_result"
    }
   ],
   "source": [
    "import joblib\n",
    "joblib.dump(model, \"../models/churn_model.pkl\")\n",
    "joblib.dump(scaler, \"../models/churn_scaler.pkl\")"
   ]
  }
 ],
 "metadata": {
  "kernelspec": {
   "display_name": ".venv",
   "language": "python",
   "name": "python3"
  },
  "language_info": {
   "codemirror_mode": {
    "name": "ipython",
    "version": 3
   },
   "file_extension": ".py",
   "mimetype": "text/x-python",
   "name": "python",
   "nbconvert_exporter": "python",
   "pygments_lexer": "ipython3",
   "version": "3.10.11"
  }
 },
 "nbformat": 4,
 "nbformat_minor": 5
}
