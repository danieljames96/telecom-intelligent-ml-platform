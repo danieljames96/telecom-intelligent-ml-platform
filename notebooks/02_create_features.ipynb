{
 "cells": [
  {
   "cell_type": "markdown",
   "id": "57bd00d1",
   "metadata": {},
   "source": [
    "# Feature Engineering for Telecom ML Platform"
   ]
  },
  {
   "cell_type": "code",
   "execution_count": 1,
   "id": "2b2fffe2",
   "metadata": {},
   "outputs": [],
   "source": [
    "import pandas as pd\n",
    "import os\n",
    "import matplotlib.pyplot as plt\n",
    "import seaborn as sns"
   ]
  },
  {
   "cell_type": "code",
   "execution_count": 5,
   "id": "895f2929",
   "metadata": {},
   "outputs": [],
   "source": [
    "sns.set(style=\"whitegrid\")\n",
    "PROCESSED_PATH = \"../data/processed/\""
   ]
  },
  {
   "cell_type": "markdown",
   "id": "d33d0a00",
   "metadata": {},
   "source": [
    "# Load processed datasets"
   ]
  },
  {
   "cell_type": "code",
   "execution_count": 6,
   "id": "ee181c92",
   "metadata": {},
   "outputs": [],
   "source": [
    "traffic = pd.read_csv(PROCESSED_PATH + \"traffic_volume.csv\")\n",
    "users = pd.read_csv(PROCESSED_PATH + \"user_churn_dataset.csv\")\n",
    "plans = pd.read_csv(PROCESSED_PATH + \"user_plan_history.csv\")\n",
    "profiles = pd.read_csv(PROCESSED_PATH + \"user_profiles.csv\")\n",
    "towers = pd.read_csv(PROCESSED_PATH + \"tower_locations.csv\")\n",
    "graph_edges = pd.read_csv(PROCESSED_PATH + \"telecom_graph_edges.csv\")\n",
    "logs = pd.read_csv(PROCESSED_PATH + \"network_behaviors.csv\")"
   ]
  },
  {
   "cell_type": "markdown",
   "id": "da067a51",
   "metadata": {},
   "source": [
    "# ─────────────────────────────────────────────\n",
    "# 🧠 Feature Engineering Examples\n",
    "# ─────────────────────────────────────────────"
   ]
  },
  {
   "cell_type": "markdown",
   "id": "83de0b58",
   "metadata": {},
   "source": [
    "### Time-based features from traffic data"
   ]
  },
  {
   "cell_type": "code",
   "execution_count": 7,
   "id": "fff8e212",
   "metadata": {},
   "outputs": [],
   "source": [
    "traffic[\"hour\"] = pd.to_datetime(traffic[\"hour\"])\n",
    "traffic[\"hour_of_day\"] = traffic[\"hour\"].dt.hour\n",
    "traffic[\"day_of_week\"] = traffic[\"hour\"].dt.dayofweek"
   ]
  },
  {
   "cell_type": "markdown",
   "id": "e4b55d78",
   "metadata": {},
   "source": [
    "### Aggregate user features"
   ]
  },
  {
   "cell_type": "code",
   "execution_count": 8,
   "id": "f30b3964",
   "metadata": {},
   "outputs": [],
   "source": [
    "user_features = plans.groupby(\"user_id\").agg({\n",
    "    \"minutes_used\": \"mean\",\n",
    "    \"data_used_gb\": \"mean\",\n",
    "    \"satisfaction_score\": \"mean\"\n",
    "}).reset_index()\n",
    "user_features.columns = [\"user_id\", \"avg_minutes\", \"avg_data\", \"avg_satisfaction\"]"
   ]
  },
  {
   "cell_type": "markdown",
   "id": "18d0db3f",
   "metadata": {},
   "source": [
    "### Merge with user churn dataset"
   ]
  },
  {
   "cell_type": "code",
   "execution_count": 18,
   "id": "08a80066",
   "metadata": {},
   "outputs": [
    {
     "data": {
      "application/vnd.microsoft.datawrangler.viewer.v0+json": {
       "columns": [
        {
         "name": "index",
         "rawType": "int64",
         "type": "integer"
        },
        {
         "name": "user_id",
         "rawType": "object",
         "type": "string"
        },
        {
         "name": "churned",
         "rawType": "int64",
         "type": "integer"
        },
        {
         "name": "avg_minutes",
         "rawType": "float64",
         "type": "float"
        },
        {
         "name": "avg_data_gb",
         "rawType": "float64",
         "type": "float"
        },
        {
         "name": "avg_satisfaction",
         "rawType": "float64",
         "type": "float"
        }
       ],
       "conversionMethod": "pd.DataFrame",
       "ref": "9f82eac7-d712-40eb-802b-b7b257c69a51",
       "rows": [
        [
         "0",
         "U0024",
         "1",
         "302.8333333333333",
         "5.711666666666666",
         "3.65"
        ],
        [
         "1",
         "U0343",
         "0",
         "291.5",
         "14.144999999999998",
         "3.4000000000000004"
        ],
        [
         "2",
         "U0065",
         "0",
         "300.0",
         "4.640000000000001",
         "3.4333333333333336"
        ],
        [
         "3",
         "U0303",
         "0",
         "301.0",
         "8.131666666666666",
         "3.7166666666666672"
        ],
        [
         "4",
         "U0317",
         "0",
         "298.0",
         "7.875",
         "2.6666666666666665"
        ],
        [
         "5",
         "U0104",
         "0",
         "297.6666666666667",
         "9.693333333333332",
         "3.633333333333333"
        ],
        [
         "6",
         "U0184",
         "0",
         "302.5",
         "10.18",
         "3.716666666666667"
        ],
        [
         "7",
         "U0105",
         "0",
         "304.8333333333333",
         "10.02",
         "3.483333333333334"
        ],
        [
         "8",
         "U0296",
         "0",
         "290.0",
         "7.413333333333334",
         "3.3833333333333333"
        ],
        [
         "9",
         "U0337",
         "0",
         "301.0",
         "4.515",
         "3.2833333333333337"
        ],
        [
         "10",
         "U0489",
         "0",
         "302.5",
         "5.431666666666668",
         "2.9666666666666663"
        ],
        [
         "11",
         "U0171",
         "0",
         "302.0",
         "12.1",
         "3.6"
        ],
        [
         "12",
         "U0411",
         "0",
         "287.5",
         "11.278333333333334",
         "3.0"
        ],
        [
         "13",
         "U0412",
         "1",
         "293.1666666666667",
         "15.875",
         "3.083333333333333"
        ],
        [
         "14",
         "U0051",
         "0",
         "295.8333333333333",
         "11.523333333333332",
         "3.016666666666667"
        ],
        [
         "15",
         "U0193",
         "0",
         "282.6666666666667",
         "2.4249999999999994",
         "3.8166666666666655"
        ],
        [
         "16",
         "U0314",
         "0",
         "296.0",
         "9.156666666666666",
         "3.533333333333333"
        ],
        [
         "17",
         "U0369",
         "1",
         "289.3333333333333",
         "11.893333333333333",
         "3.15"
        ],
        [
         "18",
         "U0391",
         "0",
         "306.3333333333333",
         "4.9",
         "3.1833333333333336"
        ],
        [
         "19",
         "U0064",
         "0",
         "310.8333333333333",
         "14.636666666666663",
         "4.05"
        ],
        [
         "20",
         "U0084",
         "0",
         "304.3333333333333",
         "5.483333333333333",
         "3.8"
        ],
        [
         "21",
         "U0202",
         "0",
         "299.5",
         "5.781666666666667",
         "3.5333333333333337"
        ],
        [
         "22",
         "U0043",
         "0",
         "292.1666666666667",
         "17.709999999999997",
         "3.7833333333333337"
        ],
        [
         "23",
         "U0012",
         "0",
         "318.5",
         "7.761666666666667",
         "3.1666666666666665"
        ],
        [
         "24",
         "U0035",
         "0",
         "293.8333333333333",
         "7.678333333333332",
         "2.95"
        ],
        [
         "25",
         "U0103",
         "0",
         "300.6666666666667",
         "7.988333333333333",
         "3.533333333333333"
        ],
        [
         "26",
         "U0146",
         "1",
         "294.0",
         "13.476666666666668",
         "3.5"
        ],
        [
         "27",
         "U0160",
         "0",
         "297.3333333333333",
         "3.626666666666667",
         "3.966666666666667"
        ],
        [
         "28",
         "U0237",
         "0",
         "304.5",
         "4.163333333333333",
         "3.5499999999999994"
        ],
        [
         "29",
         "U0398",
         "0",
         "284.3333333333333",
         "7.425",
         "3.4166666666666674"
        ],
        [
         "30",
         "U0195",
         "0",
         "303.8333333333333",
         "3.15",
         "3.216666666666667"
        ],
        [
         "31",
         "U0311",
         "0",
         "302.3333333333333",
         "4.140000000000001",
         "3.783333333333333"
        ],
        [
         "32",
         "U0401",
         "0",
         "306.3333333333333",
         "7.064999999999999",
         "3.900000000000001"
        ],
        [
         "33",
         "U0491",
         "1",
         "302.6666666666667",
         "5.82",
         "3.766666666666667"
        ],
        [
         "34",
         "U0246",
         "0",
         "297.5",
         "13.916666666666664",
         "3.1500000000000004"
        ],
        [
         "35",
         "U0340",
         "0",
         "296.0",
         "8.733333333333333",
         "3.2"
        ],
        [
         "36",
         "U0355",
         "0",
         "298.6666666666667",
         "9.491666666666667",
         "3.3666666666666667"
        ],
        [
         "37",
         "U0380",
         "1",
         "290.0",
         "5.353333333333333",
         "3.0500000000000003"
        ],
        [
         "38",
         "U0407",
         "0",
         "307.1666666666667",
         "8.093333333333334",
         "3.2"
        ],
        [
         "39",
         "U0026",
         "0",
         "297.3333333333333",
         "15.891666666666667",
         "3.883333333333333"
        ],
        [
         "40",
         "U0066",
         "0",
         "304.8333333333333",
         "5.168333333333334",
         "3.016666666666667"
        ],
        [
         "41",
         "U0173",
         "0",
         "300.1666666666667",
         "7.878333333333334",
         "3.233333333333333"
        ],
        [
         "42",
         "U0219",
         "0",
         "304.0",
         "6.45",
         "3.533333333333333"
        ],
        [
         "43",
         "U0460",
         "0",
         "306.0",
         "8.708333333333334",
         "3.266666666666666"
        ],
        [
         "44",
         "U0083",
         "0",
         "295.1666666666667",
         "10.876666666666669",
         "3.483333333333333"
        ],
        [
         "45",
         "U0194",
         "0",
         "304.5",
         "8.03",
         "2.6"
        ],
        [
         "46",
         "U0386",
         "0",
         "293.5",
         "12.611666666666666",
         "3.183333333333333"
        ],
        [
         "47",
         "U0126",
         "0",
         "292.3333333333333",
         "4.141666666666667",
         "3.2"
        ],
        [
         "48",
         "U0438",
         "0",
         "289.5",
         "5.896666666666667",
         "3.816666666666667"
        ],
        [
         "49",
         "U0221",
         "0",
         "279.5",
         "7.52",
         "2.9333333333333336"
        ]
       ],
       "shape": {
        "columns": 5,
        "rows": 500
       }
      },
      "text/html": [
       "<div>\n",
       "<style scoped>\n",
       "    .dataframe tbody tr th:only-of-type {\n",
       "        vertical-align: middle;\n",
       "    }\n",
       "\n",
       "    .dataframe tbody tr th {\n",
       "        vertical-align: top;\n",
       "    }\n",
       "\n",
       "    .dataframe thead th {\n",
       "        text-align: right;\n",
       "    }\n",
       "</style>\n",
       "<table border=\"1\" class=\"dataframe\">\n",
       "  <thead>\n",
       "    <tr style=\"text-align: right;\">\n",
       "      <th></th>\n",
       "      <th>user_id</th>\n",
       "      <th>churned</th>\n",
       "      <th>avg_minutes</th>\n",
       "      <th>avg_data_gb</th>\n",
       "      <th>avg_satisfaction</th>\n",
       "    </tr>\n",
       "  </thead>\n",
       "  <tbody>\n",
       "    <tr>\n",
       "      <th>0</th>\n",
       "      <td>U0024</td>\n",
       "      <td>1</td>\n",
       "      <td>302.833333</td>\n",
       "      <td>5.711667</td>\n",
       "      <td>3.650000</td>\n",
       "    </tr>\n",
       "    <tr>\n",
       "      <th>1</th>\n",
       "      <td>U0343</td>\n",
       "      <td>0</td>\n",
       "      <td>291.500000</td>\n",
       "      <td>14.145000</td>\n",
       "      <td>3.400000</td>\n",
       "    </tr>\n",
       "    <tr>\n",
       "      <th>2</th>\n",
       "      <td>U0065</td>\n",
       "      <td>0</td>\n",
       "      <td>300.000000</td>\n",
       "      <td>4.640000</td>\n",
       "      <td>3.433333</td>\n",
       "    </tr>\n",
       "    <tr>\n",
       "      <th>3</th>\n",
       "      <td>U0303</td>\n",
       "      <td>0</td>\n",
       "      <td>301.000000</td>\n",
       "      <td>8.131667</td>\n",
       "      <td>3.716667</td>\n",
       "    </tr>\n",
       "    <tr>\n",
       "      <th>4</th>\n",
       "      <td>U0317</td>\n",
       "      <td>0</td>\n",
       "      <td>298.000000</td>\n",
       "      <td>7.875000</td>\n",
       "      <td>2.666667</td>\n",
       "    </tr>\n",
       "    <tr>\n",
       "      <th>...</th>\n",
       "      <td>...</td>\n",
       "      <td>...</td>\n",
       "      <td>...</td>\n",
       "      <td>...</td>\n",
       "      <td>...</td>\n",
       "    </tr>\n",
       "    <tr>\n",
       "      <th>495</th>\n",
       "      <td>U0321</td>\n",
       "      <td>0</td>\n",
       "      <td>296.500000</td>\n",
       "      <td>5.706667</td>\n",
       "      <td>3.716667</td>\n",
       "    </tr>\n",
       "    <tr>\n",
       "      <th>496</th>\n",
       "      <td>U0480</td>\n",
       "      <td>0</td>\n",
       "      <td>296.333333</td>\n",
       "      <td>5.035000</td>\n",
       "      <td>3.566667</td>\n",
       "    </tr>\n",
       "    <tr>\n",
       "      <th>497</th>\n",
       "      <td>U0371</td>\n",
       "      <td>0</td>\n",
       "      <td>303.500000</td>\n",
       "      <td>4.936667</td>\n",
       "      <td>3.050000</td>\n",
       "    </tr>\n",
       "    <tr>\n",
       "      <th>498</th>\n",
       "      <td>U0190</td>\n",
       "      <td>0</td>\n",
       "      <td>295.500000</td>\n",
       "      <td>14.190000</td>\n",
       "      <td>3.300000</td>\n",
       "    </tr>\n",
       "    <tr>\n",
       "      <th>499</th>\n",
       "      <td>U0215</td>\n",
       "      <td>0</td>\n",
       "      <td>308.500000</td>\n",
       "      <td>5.580000</td>\n",
       "      <td>3.483333</td>\n",
       "    </tr>\n",
       "  </tbody>\n",
       "</table>\n",
       "<p>500 rows × 5 columns</p>\n",
       "</div>"
      ],
      "text/plain": [
       "    user_id  churned  avg_minutes  avg_data_gb  avg_satisfaction\n",
       "0     U0024        1   302.833333     5.711667          3.650000\n",
       "1     U0343        0   291.500000    14.145000          3.400000\n",
       "2     U0065        0   300.000000     4.640000          3.433333\n",
       "3     U0303        0   301.000000     8.131667          3.716667\n",
       "4     U0317        0   298.000000     7.875000          2.666667\n",
       "..      ...      ...          ...          ...               ...\n",
       "495   U0321        0   296.500000     5.706667          3.716667\n",
       "496   U0480        0   296.333333     5.035000          3.566667\n",
       "497   U0371        0   303.500000     4.936667          3.050000\n",
       "498   U0190        0   295.500000    14.190000          3.300000\n",
       "499   U0215        0   308.500000     5.580000          3.483333\n",
       "\n",
       "[500 rows x 5 columns]"
      ]
     },
     "execution_count": 18,
     "metadata": {},
     "output_type": "execute_result"
    }
   ],
   "source": [
    "users"
   ]
  },
  {
   "cell_type": "code",
   "execution_count": 32,
   "id": "34fbe82e",
   "metadata": {},
   "outputs": [
    {
     "name": "stdout",
     "output_type": "stream",
     "text": [
      "✅ Saved: user_feature_matrix.csv\n"
     ]
    }
   ],
   "source": [
    "user_merged = users.merge(profiles, on=\"user_id\", how=\"left\")\n",
    "cols_to_use = user_features.columns.difference(user_merged.columns).tolist()\n",
    "cols_to_use.append(\"user_id\")\n",
    "user_merged = user_merged.merge(user_features[cols_to_use], on=\"user_id\", how=\"left\")\n",
    "\n",
    "# Save user feature matrix\n",
    "user_merged.to_csv(PROCESSED_PATH + \"user_feature_matrix.csv\", index=False)\n",
    "print(\"✅ Saved: user_feature_matrix.csv\")"
   ]
  },
  {
   "cell_type": "markdown",
   "id": "d091d7de",
   "metadata": {},
   "source": [
    "### Tower-level features"
   ]
  },
  {
   "cell_type": "code",
   "execution_count": 12,
   "id": "1d33849d",
   "metadata": {},
   "outputs": [
    {
     "name": "stdout",
     "output_type": "stream",
     "text": [
      "✅ Saved: tower_feature_matrix.csv\n"
     ]
    }
   ],
   "source": [
    "tower_agg = traffic.groupby(\"tower_id\").agg({\n",
    "    \"total_calls\": \"mean\",\n",
    "    \"total_data_used_mb\": \"mean\"\n",
    "}).reset_index()\n",
    "tower_agg.columns = [\"tower_id\", \"avg_calls\", \"avg_data_mb\"]\n",
    "\n",
    "# Merge with tower geo info\n",
    "tower_features = tower_agg.merge(towers, on=\"tower_id\", how=\"left\")\n",
    "tower_features.to_csv(PROCESSED_PATH + \"tower_feature_matrix.csv\", index=False)\n",
    "print(\"✅ Saved: tower_feature_matrix.csv\")"
   ]
  },
  {
   "cell_type": "markdown",
   "id": "fa77a7d0",
   "metadata": {},
   "source": [
    "# ─────────────────────────────────────────────\n",
    "# 📊 Quick EDA Plots\n",
    "# ─────────────────────────────────────────────"
   ]
  },
  {
   "cell_type": "markdown",
   "id": "1eb22e16",
   "metadata": {},
   "source": [
    "### Average User Data Usage Distribution"
   ]
  },
  {
   "cell_type": "code",
   "execution_count": 33,
   "id": "86507465",
   "metadata": {},
   "outputs": [
    {
     "data": {
      "image/png": "[encoded data removed]",
      "text/plain": [
       "<Figure size 800x400 with 1 Axes>"
      ]
     },
     "metadata": {},
     "output_type": "display_data"
    }
   ],
   "source": [
    "plt.figure(figsize=(8, 4))\n",
    "sns.histplot(user_merged[\"avg_data\"], kde=True)\n",
    "plt.title(\"Average User Data Usage Distribution\")\n",
    "plt.xlabel(\"Data Usage (GB)\")\n",
    "plt.tight_layout()\n",
    "plt.show()"
   ]
  },
  {
   "cell_type": "markdown",
   "id": "8e696e45",
   "metadata": {},
   "source": [
    "### Churn vs. Average Call Minutes"
   ]
  },
  {
   "cell_type": "code",
   "execution_count": 34,
   "id": "00edc550",
   "metadata": {},
   "outputs": [
    {
     "data": {
      "image/png": "[encoded data removed]",
      "text/plain": [
       "<Figure size 800x400 with 1 Axes>"
      ]
     },
     "metadata": {},
     "output_type": "display_data"
    }
   ],
   "source": [
    "plt.figure(figsize=(8, 4))\n",
    "sns.boxplot(x=\"churned\", y=\"avg_minutes\", data=user_merged)\n",
    "plt.title(\"Churn vs. Average Call Minutes\")\n",
    "plt.tight_layout()\n",
    "plt.show()"
   ]
  },
  {
   "cell_type": "markdown",
   "id": "256c87c4",
   "metadata": {},
   "source": [
    "### User Churn Analysis"
   ]
  },
  {
   "cell_type": "code",
   "execution_count": 37,
   "id": "4541284e",
   "metadata": {},
   "outputs": [
    {
     "data": {
      "text/plain": [
       "Text(0.5, 1.0, 'Churn Distribution')"
      ]
     },
     "execution_count": 37,
     "metadata": {},
     "output_type": "execute_result"
    },
    {
     "data": {
      "image/png": "[encoded data removed]",
      "text/plain": [
       "<Figure size 640x480 with 1 Axes>"
      ]
     },
     "metadata": {},
     "output_type": "display_data"
    }
   ],
   "source": [
    "user_feature_matrix = pd.read_csv(PROCESSED_PATH + \"user_feature_matrix.csv\")\n",
    "sns.countplot(x='churned', data=user_feature_matrix)\n",
    "plt.title('Churn Distribution')"
   ]
  },
  {
   "cell_type": "markdown",
   "id": "9f9b9859",
   "metadata": {},
   "source": []
  }
 ],
 "metadata": {
  "kernelspec": {
   "display_name": ".venv",
   "language": "python",
   "name": "python3"
  },
  "language_info": {
   "codemirror_mode": {
    "name": "ipython",
    "version": 3
   },
   "file_extension": ".py",
   "mimetype": "text/x-python",
   "name": "python",
   "nbconvert_exporter": "python",
   "pygments_lexer": "ipython3",
   "version": "3.10.11"
  }
 },
 "nbformat": 4,
 "nbformat_minor": 5
}
