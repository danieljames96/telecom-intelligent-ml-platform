{
 "cells": [
  {
   "cell_type": "markdown",
   "id": "c3878a74",
   "metadata": {},
   "source": [
    "# ─────────────────────────────────────────────\n",
    "# 📘 PySpark Notebook for Data Preprocessing\n",
    "# ─────────────────────────────────────────────"
   ]
  },
  {
   "cell_type": "code",
   "execution_count": 1,
   "id": "39e01053",
   "metadata": {},
   "outputs": [
    {
     "name": "stdout",
     "output_type": "stream",
     "text": [
      "openjdk version \"11.0.26\" 2025-01-21\n",
      "OpenJDK Runtime Environment (build 11.0.26+4-post-Ubuntu-1ubuntu122.04)\n",
      "OpenJDK 64-Bit Server VM (build 11.0.26+4-post-Ubuntu-1ubuntu122.04, mixed mode, sharing)\n",
      "JAVA_HOME: /usr/lib/jvm/java-11-openjdk-amd64\n"
     ]
    }
   ],
   "source": [
    "import os\n",
    "!java -version\n",
    "print(\"JAVA_HOME:\", os.environ.get(\"JAVA_HOME\"))"
   ]
  },
  {
   "cell_type": "code",
   "execution_count": 4,
   "id": "88acad5f",
   "metadata": {},
   "outputs": [],
   "source": [
    "from pyspark.sql import SparkSession\n",
    "from pyspark.sql import functions as F\n",
    "\n",
    "# 🔹 Start Spark session\n",
    "spark = SparkSession.builder \\\n",
    "    .appName(\"TelecomDataProcessing\") \\\n",
    "    .getOrCreate()\n",
    "\n",
    "# 🔹 Paths\n",
    "RAW_PATH = \"../data/raw/\"\n",
    "PROCESSED_PATH = \"../data/processed/\""
   ]
  },
  {
   "cell_type": "code",
   "execution_count": 7,
   "id": "bf714a30-f35f-498a-bd20-6df452b36b1f",
   "metadata": {},
   "outputs": [],
   "source": [
    "import os\n",
    "import shutil\n",
    "\n",
    "def save_dataframe(df, path, format=\"parquet\", single_file=True, overwrite=True):\n",
    "    \"\"\"\n",
    "    Save Spark DataFrame to disk in an easy-to-process format.\n",
    "\n",
    "    Args:\n",
    "        df (DataFrame): Spark DataFrame to save.\n",
    "        path (str): Destination path (e.g., 'data/processed/users').\n",
    "        format (str): 'csv' or 'parquet'.\n",
    "        single_file (bool): If True, output will be a single file (coalesce + move).\n",
    "        overwrite (bool): If True, overwrite existing files.\n",
    "\n",
    "    Returns:\n",
    "        str: Final path to the saved file or directory.\n",
    "    \"\"\"\n",
    "\n",
    "    if overwrite and os.path.exists(path):\n",
    "        shutil.rmtree(path)\n",
    "\n",
    "    # Coalesce to 1 partition if single file desired\n",
    "    writer = df.coalesce(1) if single_file else df\n",
    "\n",
    "    # Set writer options\n",
    "    writer = writer.write.option(\"header\", True)\n",
    "    if overwrite:\n",
    "        writer = writer.mode(\"overwrite\")\n",
    "\n",
    "    # Write based on format\n",
    "    if format == \"csv\":\n",
    "        writer.csv(path)\n",
    "    elif format == \"parquet\":\n",
    "        writer.parquet(path)\n",
    "    else:\n",
    "        raise ValueError(\"Unsupported format. Use 'csv' or 'parquet'.\")\n",
    "\n",
    "    # If CSV and single_file=True, rename part file\n",
    "    if format == \"csv\" and single_file:\n",
    "        part_file = None\n",
    "        for fname in os.listdir(path):\n",
    "            if fname.startswith(\"part-\") and fname.endswith(\".csv\"):\n",
    "                part_file = fname\n",
    "                break\n",
    "        if part_file:\n",
    "            final_path = path + \".csv\"\n",
    "            shutil.move(os.path.join(path, part_file), final_path)\n",
    "            shutil.rmtree(path)\n",
    "            return final_path\n",
    "\n",
    "    return path"
   ]
  },
  {
   "cell_type": "markdown",
   "id": "3b589b00",
   "metadata": {},
   "source": [
    "# ─────────────────────────────────────────────\n",
    "# 1️⃣ Process: Traffic Volume (For Forecasting)\n",
    "# ─────────────────────────────────────────────"
   ]
  },
  {
   "cell_type": "code",
   "execution_count": 8,
   "id": "2453c37c",
   "metadata": {},
   "outputs": [
    {
     "name": "stdout",
     "output_type": "stream",
     "text": [
      "✅ traffic_volume.csv saved to ../data/processed/traffic_volume.csv\n"
     ]
    }
   ],
   "source": [
    "# Load CDR data\n",
    "cdr = spark.read.csv(RAW_PATH + \"synthetic_cdr.csv\", header=True, inferSchema=True)\n",
    "\n",
    "# Aggregate traffic by tower and hour\n",
    "traffic = cdr.withColumn(\"hour\", F.date_trunc(\"hour\", F.col(\"timestamp\"))) \\\n",
    "    .groupBy(\"tower_id\", \"hour\") \\\n",
    "    .agg(\n",
    "        F.count(\"*\").alias(\"total_calls\"),\n",
    "        F.sum(\"data_usage_mb\").alias(\"total_data_used_mb\")\n",
    "    )\n",
    "\n",
    "# Save using the helper\n",
    "output_path = save_dataframe(\n",
    "    df=traffic,\n",
    "    path=PROCESSED_PATH + \"traffic_volume\",  # No .csv extension here!\n",
    "    format=\"csv\",\n",
    "    single_file=True\n",
    ")\n",
    "\n",
    "print(f\"✅ traffic_volume.csv saved to {output_path}\")"
   ]
  },
  {
   "cell_type": "markdown",
   "id": "6d0943f6",
   "metadata": {},
   "source": [
    "# ─────────────────────────────────────────────\n",
    "# 2️⃣ Process: Graph Edges (For Graph ML)\n",
    "# ─────────────────────────────────────────────"
   ]
  },
  {
   "cell_type": "code",
   "execution_count": 9,
   "id": "1a7e54d4",
   "metadata": {},
   "outputs": [
    {
     "name": "stdout",
     "output_type": "stream",
     "text": [
      "✅ telecom_graph_edges.csv saved to ../data/processed/telecom_graph_edges.csv\n",
      "✅ telecom_graph_edges.csv saved.\n"
     ]
    }
   ],
   "source": [
    "edges = cdr.groupBy(\"user_id\", \"tower_id\") \\\n",
    "    .agg(F.count(\"*\").alias(\"interaction_weight\"))\n",
    "\n",
    "# Save using the helper\n",
    "output_path = save_dataframe(\n",
    "    df=edges,\n",
    "    path=PROCESSED_PATH + \"telecom_graph_edges\",\n",
    "    format=\"csv\",\n",
    "    single_file=True\n",
    ")\n",
    "\n",
    "print(f\"✅ telecom_graph_edges.csv saved to {output_path}\")\n",
    "\n",
    "print(\"✅ telecom_graph_edges.csv saved.\")"
   ]
  },
  {
   "cell_type": "markdown",
   "id": "3dd0e4c9",
   "metadata": {},
   "source": [
    "# ─────────────────────────────────────────────\n",
    "# 3️⃣ Process: Network Stats (For Anomaly/VAE)\n",
    "# ─────────────────────────────────────────────"
   ]
  },
  {
   "cell_type": "code",
   "execution_count": 10,
   "id": "d5ce9043",
   "metadata": {},
   "outputs": [
    {
     "name": "stdout",
     "output_type": "stream",
     "text": [
      "✅ network_behaviors.csv saved to ../data/processed/network_behaviors.csv\n",
      "✅ network_behaviors.csv saved.\n"
     ]
    }
   ],
   "source": [
    "logs = spark.read.csv(RAW_PATH + \"anomaly_logs.csv\", header=True, inferSchema=True)\n",
    "\n",
    "features = logs.select(\"latency_ms\", \"packet_loss\", \"cpu_load\", \"anomaly\")\n",
    "\n",
    "# Save using the helper\n",
    "output_path = save_dataframe(\n",
    "    df=features,\n",
    "    path=PROCESSED_PATH + \"network_behaviors\",\n",
    "    format=\"csv\",\n",
    "    single_file=True\n",
    ")\n",
    "\n",
    "print(f\"✅ network_behaviors.csv saved to {output_path}\")\n",
    "\n",
    "print(\"✅ network_behaviors.csv saved.\")"
   ]
  },
  {
   "cell_type": "markdown",
   "id": "1809a8f1",
   "metadata": {},
   "source": [
    "# ─────────────────────────────────────────────\n",
    "# 4️⃣ Process: User Churn Features (For Churn Modeling)\n",
    "# ─────────────────────────────────────────────"
   ]
  },
  {
   "cell_type": "code",
   "execution_count": 11,
   "id": "0a9aa4f7",
   "metadata": {},
   "outputs": [
    {
     "name": "stdout",
     "output_type": "stream",
     "text": [
      "✅ user_churn_dataset.csv saved to ../data/processed/user_churn_dataset.csv\n",
      "✅ user_churn_dataset.csv saved.\n"
     ]
    }
   ],
   "source": [
    "plans = spark.read.csv(PROCESSED_PATH + \"user_plan_history.csv\", header=True, inferSchema=True)\n",
    "\n",
    "churn_ds = plans.groupBy(\"user_id\") \\\n",
    "    .agg(\n",
    "        F.max(\"churn_flag\").alias(\"churned\"),\n",
    "        F.avg(\"minutes_used\").alias(\"avg_minutes\"),\n",
    "        F.avg(\"data_used_gb\").alias(\"avg_data_gb\"),\n",
    "        F.avg(\"satisfaction_score\").alias(\"avg_satisfaction\")\n",
    "    )\n",
    "\n",
    "# Save using the helper\n",
    "output_path = save_dataframe(\n",
    "    df=churn_ds,\n",
    "    path=PROCESSED_PATH + \"user_churn_dataset\",\n",
    "    format=\"csv\",\n",
    "    single_file=True\n",
    ")\n",
    "\n",
    "print(f\"✅ user_churn_dataset.csv saved to {output_path}\")\n",
    "\n",
    "print(\"✅ user_churn_dataset.csv saved.\")"
   ]
  },
  {
   "cell_type": "markdown",
   "id": "334abc35",
   "metadata": {},
   "source": [
    "# ─────────────────────────────────────────────\n",
    "# 4️⃣ Process: Copy Raw files to Processed\n",
    "# ─────────────────────────────────────────────"
   ]
  },
  {
   "cell_type": "code",
   "execution_count": null,
   "id": "00785d70",
   "metadata": {},
   "outputs": [],
   "source": [
    "files_to_copy = [\n",
    "    (\"data/raw/user_profiles.csv\", \"data/processed/user_profiles.csv\"),\n",
    "    (\"data/raw/tower_locations.csv\", \"data/processed/tower_locations.csv\")\n",
    "]\n",
    "\n",
    "# Create processed folder if it doesn't exist\n",
    "os.makedirs(\"data/processed\", exist_ok=True)\n",
    "\n",
    "# Copy files\n",
    "for src, dst in files_to_copy:\n",
    "    shutil.copyfile(src, dst)\n",
    "    print(f\"✅ Copied: {src} → {dst}\")"
   ]
  }
 ],
 "metadata": {
  "kernelspec": {
   "display_name": "Python 3 (ipykernel)",
   "language": "python",
   "name": "python3"
  },
  "language_info": {
   "codemirror_mode": {
    "name": "ipython",
    "version": 3
   },
   "file_extension": ".py",
   "mimetype": "text/x-python",
   "name": "python",
   "nbconvert_exporter": "python",
   "pygments_lexer": "ipython3",
   "version": "3.11.6"
  }
 },
 "nbformat": 4,
 "nbformat_minor": 5
}
