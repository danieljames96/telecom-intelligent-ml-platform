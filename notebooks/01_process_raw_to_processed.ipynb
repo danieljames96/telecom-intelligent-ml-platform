{
 "cells": [
  {
   "cell_type": "markdown",
   "id": "c3878a74",
   "metadata": {},
   "source": [
    "# ─────────────────────────────────────────────\n",
    "# 📘 PySpark Notebook for Data Preprocessing\n",
    "# ─────────────────────────────────────────────"
   ]
  },
  {
   "cell_type": "code",
   "execution_count": 1,
   "id": "39e01053",
   "metadata": {},
   "outputs": [
    {
     "name": "stdout",
     "output_type": "stream",
     "text": [
      "openjdk version \"11.0.26\" 2025-01-21\n",
      "OpenJDK Runtime Environment (build 11.0.26+4-post-Ubuntu-1ubuntu122.04)\n",
      "OpenJDK 64-Bit Server VM (build 11.0.26+4-post-Ubuntu-1ubuntu122.04, mixed mode, sharing)\n",
      "JAVA_HOME: /usr/lib/jvm/java-11-openjdk-amd64\n"
     ]
    }
   ],
   "source": [
    "import os\n",
    "!java -version\n",
    "print(\"JAVA_HOME:\", os.environ.get(\"JAVA_HOME\"))"
   ]
  },
  {
   "cell_type": "code",
   "execution_count": 2,
   "id": "88acad5f",
   "metadata": {},
   "outputs": [],
   "source": [
    "from pyspark.sql import SparkSession\n",
    "from pyspark.sql import functions as F\n",
    "\n",
    "# 🔹 Start Spark session\n",
    "spark = SparkSession.builder \\\n",
    "    .appName(\"TelecomDataProcessing\") \\\n",
    "    .getOrCreate()\n",
    "\n",
    "# 🔹 Paths\n",
    "RAW_PATH = \"../data/raw/\"\n",
    "PROCESSED_PATH = \"../data/processed/parquet/\""
   ]
  },
  {
   "cell_type": "code",
   "execution_count": 5,
   "id": "bf714a30-f35f-498a-bd20-6df452b36b1f",
   "metadata": {},
   "outputs": [],
   "source": [
    "import os\n",
    "import shutil\n",
    "\n",
    "def save_dataframe(df, path, format=\"parquet\", single_file=True, overwrite=True):\n",
    "    \"\"\"\n",
    "    Save Spark DataFrame to disk in an easy-to-process format.\n",
    "\n",
    "    Args:\n",
    "        df (DataFrame): Spark DataFrame to save.\n",
    "        path (str): Destination path (e.g., 'data/processed/users').\n",
    "        format (str): 'csv' or 'parquet'.\n",
    "        single_file (bool): If True, output will be a single file (coalesce + move).\n",
    "        overwrite (bool): If True, overwrite existing files.\n",
    "\n",
    "    Returns:\n",
    "        str: Final path to the saved file or directory.\n",
    "    \"\"\"\n",
    "    import os\n",
    "    import shutil\n",
    "\n",
    "    if overwrite and os.path.exists(path):\n",
    "        shutil.rmtree(path)\n",
    "\n",
    "    temp_path = path + \"_tmp\"\n",
    "    df_to_save = df.coalesce(1) if single_file else df\n",
    "    writer = df_to_save.write.option(\"header\", True).mode(\"overwrite\")\n",
    "\n",
    "    if format == \"csv\":\n",
    "        writer.csv(temp_path)\n",
    "    elif format == \"parquet\":\n",
    "        writer.parquet(temp_path)\n",
    "    else:\n",
    "        raise ValueError(\"Unsupported format. Use 'csv' or 'parquet'.\")\n",
    "\n",
    "    if single_file:\n",
    "        part_file = None\n",
    "        for fname in os.listdir(temp_path):\n",
    "            if fname.startswith(\"part-\") and fname.endswith(f\".{format}\"):\n",
    "                part_file = fname\n",
    "                break\n",
    "        if part_file:\n",
    "            final_path = path + f\".{format}\"\n",
    "            shutil.move(os.path.join(temp_path, part_file), final_path)\n",
    "            shutil.rmtree(temp_path)\n",
    "            return final_path\n",
    "    else:\n",
    "        if os.path.exists(path):\n",
    "            shutil.rmtree(path)\n",
    "        shutil.move(temp_path, path)\n",
    "        return path"
   ]
  },
  {
   "cell_type": "markdown",
   "id": "3b589b00",
   "metadata": {},
   "source": [
    "# ─────────────────────────────────────────────\n",
    "# 1️⃣ Process: Traffic Volume (For Forecasting)\n",
    "# ─────────────────────────────────────────────"
   ]
  },
  {
   "cell_type": "code",
   "execution_count": 6,
   "id": "2453c37c",
   "metadata": {},
   "outputs": [
    {
     "name": "stdout",
     "output_type": "stream",
     "text": [
      "✅ traffic_volume saved to ../data/processed/parquet/traffic_volume.parquet\n"
     ]
    }
   ],
   "source": [
    "# Load CDR data\n",
    "cdr = spark.read.csv(RAW_PATH + \"synthetic_cdr.csv\", header=True, inferSchema=True)\n",
    "\n",
    "# Aggregate traffic by tower and hour\n",
    "traffic = cdr.withColumn(\"hour\", F.date_trunc(\"hour\", F.col(\"timestamp\"))) \\\n",
    "    .groupBy(\"tower_id\", \"hour\") \\\n",
    "    .agg(\n",
    "        F.count(\"*\").alias(\"total_calls\"),\n",
    "        F.sum(\"data_usage_mb\").alias(\"total_data_used_mb\")\n",
    "    )\n",
    "\n",
    "# Save using the helper\n",
    "output_path = save_dataframe(\n",
    "    df=traffic,\n",
    "    path=PROCESSED_PATH + \"traffic_volume\",\n",
    "    format=\"parquet\",\n",
    "    single_file=True\n",
    ")\n",
    "\n",
    "print(f\"✅ traffic_volume saved to {output_path}\")"
   ]
  },
  {
   "cell_type": "markdown",
   "id": "6d0943f6",
   "metadata": {},
   "source": [
    "# ─────────────────────────────────────────────\n",
    "# 2️⃣ Process: Graph Edges (For Graph ML)\n",
    "# ─────────────────────────────────────────────"
   ]
  },
  {
   "cell_type": "code",
   "execution_count": 7,
   "id": "1a7e54d4",
   "metadata": {},
   "outputs": [
    {
     "name": "stdout",
     "output_type": "stream",
     "text": [
      "✅ telecom_graph_edges saved to ../data/processed/parquet/telecom_graph_edges.parquet\n",
      "✅ telecom_graph_edges saved.\n"
     ]
    }
   ],
   "source": [
    "edges = cdr.groupBy(\"user_id\", \"tower_id\") \\\n",
    "    .agg(F.count(\"*\").alias(\"interaction_weight\"))\n",
    "\n",
    "# Save using the helper\n",
    "output_path = save_dataframe(\n",
    "    df=edges,\n",
    "    path=PROCESSED_PATH + \"telecom_graph_edges\",\n",
    "    format=\"parquet\",\n",
    "    single_file=True\n",
    ")\n",
    "\n",
    "print(f\"✅ telecom_graph_edges saved to {output_path}\")\n",
    "\n",
    "print(\"✅ telecom_graph_edges saved.\")"
   ]
  },
  {
   "cell_type": "markdown",
   "id": "3dd0e4c9",
   "metadata": {},
   "source": [
    "# ─────────────────────────────────────────────\n",
    "# 3️⃣ Process: Network Stats (For Anomaly/VAE)\n",
    "# ─────────────────────────────────────────────"
   ]
  },
  {
   "cell_type": "code",
   "execution_count": 8,
   "id": "d5ce9043",
   "metadata": {},
   "outputs": [
    {
     "name": "stdout",
     "output_type": "stream",
     "text": [
      "✅ network_behaviors saved to ../data/processed/parquet/network_behaviors.parquet\n",
      "✅ network_behaviors saved.\n"
     ]
    }
   ],
   "source": [
    "logs = spark.read.csv(RAW_PATH + \"anomaly_logs.csv\", header=True, inferSchema=True)\n",
    "\n",
    "features = logs.select(\"latency_ms\", \"packet_loss\", \"cpu_load\", \"anomaly\")\n",
    "\n",
    "# Save using the helper\n",
    "output_path = save_dataframe(\n",
    "    df=features,\n",
    "    path=PROCESSED_PATH + \"network_behaviors\",\n",
    "    format=\"parquet\",\n",
    "    single_file=True\n",
    ")\n",
    "\n",
    "print(f\"✅ network_behaviors saved to {output_path}\")\n",
    "\n",
    "print(\"✅ network_behaviors saved.\")"
   ]
  },
  {
   "cell_type": "markdown",
   "id": "1809a8f1",
   "metadata": {},
   "source": [
    "# ─────────────────────────────────────────────\n",
    "# 4️⃣ Process: User Churn Features (For Churn Modeling)\n",
    "# ─────────────────────────────────────────────"
   ]
  },
  {
   "cell_type": "code",
   "execution_count": 10,
   "id": "0a9aa4f7",
   "metadata": {},
   "outputs": [
    {
     "name": "stdout",
     "output_type": "stream",
     "text": [
      "✅ user_churn_dataset saved to ../data/processed/parquet/user_churn_dataset.parquet\n",
      "✅ user_churn_dataset saved.\n"
     ]
    }
   ],
   "source": [
    "plans = spark.read.csv(PROCESSED_PATH + \"user_plan_history.csv\", header=True, inferSchema=True)\n",
    "\n",
    "churn_ds = plans.groupBy(\"user_id\") \\\n",
    "    .agg(\n",
    "        F.max(\"churn_flag\").alias(\"churned\"),\n",
    "        F.avg(\"minutes_used\").alias(\"avg_minutes\"),\n",
    "        F.avg(\"data_used_gb\").alias(\"avg_data_gb\"),\n",
    "        F.avg(\"satisfaction_score\").alias(\"avg_satisfaction\")\n",
    "    )\n",
    "\n",
    "# Save using the helper\n",
    "output_path = save_dataframe(\n",
    "    df=churn_ds,\n",
    "    path=PROCESSED_PATH + \"user_churn_dataset\",\n",
    "    format=\"parquet\",\n",
    "    single_file=True\n",
    ")\n",
    "\n",
    "print(f\"✅ user_churn_dataset saved to {output_path}\")\n",
    "\n",
    "print(\"✅ user_churn_dataset saved.\")"
   ]
  },
  {
   "cell_type": "markdown",
   "id": "334abc35",
   "metadata": {},
   "source": [
    "# ─────────────────────────────────────────────\n",
    "# 4️⃣ Process: Copy Raw files to Processed\n",
    "# ─────────────────────────────────────────────"
   ]
  },
  {
   "cell_type": "code",
   "execution_count": 14,
   "id": "00785d70",
   "metadata": {},
   "outputs": [
    {
     "name": "stdout",
     "output_type": "stream",
     "text": [
      "✅ Copied: ../data/raw/user_profiles.csv → ../data/processed/parquet/user_profiles.parquet\n",
      "✅ Copied: ../data/raw/tower_locations.csv → ../data/processed/parquet/tower_locations.parquet\n"
     ]
    },
    {
     "ename": "FileNotFoundError",
     "evalue": "[Errno 2] No such file or directory: '../data/raw/user_plan_history.csv'",
     "output_type": "error",
     "traceback": [
      "\u001b[0;31m---------------------------------------------------------------------------\u001b[0m",
      "\u001b[0;31mFileNotFoundError\u001b[0m                         Traceback (most recent call last)",
      "Cell \u001b[0;32mIn[14], line 11\u001b[0m\n\u001b[1;32m      9\u001b[0m \u001b[38;5;66;03m# Copy files\u001b[39;00m\n\u001b[1;32m     10\u001b[0m \u001b[38;5;28;01mfor\u001b[39;00m src, dst \u001b[38;5;129;01min\u001b[39;00m files_to_copy:\n\u001b[0;32m---> 11\u001b[0m     df \u001b[38;5;241m=\u001b[39m \u001b[43mpd\u001b[49m\u001b[38;5;241;43m.\u001b[39;49m\u001b[43mread_csv\u001b[49m\u001b[43m(\u001b[49m\u001b[43msrc\u001b[49m\u001b[43m)\u001b[49m\n\u001b[1;32m     12\u001b[0m     df\u001b[38;5;241m.\u001b[39mto_parquet(dst)\n\u001b[1;32m     13\u001b[0m     \u001b[38;5;28mprint\u001b[39m(\u001b[38;5;124mf\u001b[39m\u001b[38;5;124m\"\u001b[39m\u001b[38;5;124m✅ Copied: \u001b[39m\u001b[38;5;132;01m{\u001b[39;00msrc\u001b[38;5;132;01m}\u001b[39;00m\u001b[38;5;124m → \u001b[39m\u001b[38;5;132;01m{\u001b[39;00mdst\u001b[38;5;132;01m}\u001b[39;00m\u001b[38;5;124m\"\u001b[39m)\n",
      "File \u001b[0;32m/opt/conda/lib/python3.11/site-packages/pandas/io/parsers/readers.py:912\u001b[0m, in \u001b[0;36mread_csv\u001b[0;34m(filepath_or_buffer, sep, delimiter, header, names, index_col, usecols, dtype, engine, converters, true_values, false_values, skipinitialspace, skiprows, skipfooter, nrows, na_values, keep_default_na, na_filter, verbose, skip_blank_lines, parse_dates, infer_datetime_format, keep_date_col, date_parser, date_format, dayfirst, cache_dates, iterator, chunksize, compression, thousands, decimal, lineterminator, quotechar, quoting, doublequote, escapechar, comment, encoding, encoding_errors, dialect, on_bad_lines, delim_whitespace, low_memory, memory_map, float_precision, storage_options, dtype_backend)\u001b[0m\n\u001b[1;32m    899\u001b[0m kwds_defaults \u001b[38;5;241m=\u001b[39m _refine_defaults_read(\n\u001b[1;32m    900\u001b[0m     dialect,\n\u001b[1;32m    901\u001b[0m     delimiter,\n\u001b[0;32m   (...)\u001b[0m\n\u001b[1;32m    908\u001b[0m     dtype_backend\u001b[38;5;241m=\u001b[39mdtype_backend,\n\u001b[1;32m    909\u001b[0m )\n\u001b[1;32m    910\u001b[0m kwds\u001b[38;5;241m.\u001b[39mupdate(kwds_defaults)\n\u001b[0;32m--> 912\u001b[0m \u001b[38;5;28;01mreturn\u001b[39;00m \u001b[43m_read\u001b[49m\u001b[43m(\u001b[49m\u001b[43mfilepath_or_buffer\u001b[49m\u001b[43m,\u001b[49m\u001b[43m \u001b[49m\u001b[43mkwds\u001b[49m\u001b[43m)\u001b[49m\n",
      "File \u001b[0;32m/opt/conda/lib/python3.11/site-packages/pandas/io/parsers/readers.py:577\u001b[0m, in \u001b[0;36m_read\u001b[0;34m(filepath_or_buffer, kwds)\u001b[0m\n\u001b[1;32m    574\u001b[0m _validate_names(kwds\u001b[38;5;241m.\u001b[39mget(\u001b[38;5;124m\"\u001b[39m\u001b[38;5;124mnames\u001b[39m\u001b[38;5;124m\"\u001b[39m, \u001b[38;5;28;01mNone\u001b[39;00m))\n\u001b[1;32m    576\u001b[0m \u001b[38;5;66;03m# Create the parser.\u001b[39;00m\n\u001b[0;32m--> 577\u001b[0m parser \u001b[38;5;241m=\u001b[39m \u001b[43mTextFileReader\u001b[49m\u001b[43m(\u001b[49m\u001b[43mfilepath_or_buffer\u001b[49m\u001b[43m,\u001b[49m\u001b[43m \u001b[49m\u001b[38;5;241;43m*\u001b[39;49m\u001b[38;5;241;43m*\u001b[39;49m\u001b[43mkwds\u001b[49m\u001b[43m)\u001b[49m\n\u001b[1;32m    579\u001b[0m \u001b[38;5;28;01mif\u001b[39;00m chunksize \u001b[38;5;129;01mor\u001b[39;00m iterator:\n\u001b[1;32m    580\u001b[0m     \u001b[38;5;28;01mreturn\u001b[39;00m parser\n",
      "File \u001b[0;32m/opt/conda/lib/python3.11/site-packages/pandas/io/parsers/readers.py:1407\u001b[0m, in \u001b[0;36mTextFileReader.__init__\u001b[0;34m(self, f, engine, **kwds)\u001b[0m\n\u001b[1;32m   1404\u001b[0m     \u001b[38;5;28mself\u001b[39m\u001b[38;5;241m.\u001b[39moptions[\u001b[38;5;124m\"\u001b[39m\u001b[38;5;124mhas_index_names\u001b[39m\u001b[38;5;124m\"\u001b[39m] \u001b[38;5;241m=\u001b[39m kwds[\u001b[38;5;124m\"\u001b[39m\u001b[38;5;124mhas_index_names\u001b[39m\u001b[38;5;124m\"\u001b[39m]\n\u001b[1;32m   1406\u001b[0m \u001b[38;5;28mself\u001b[39m\u001b[38;5;241m.\u001b[39mhandles: IOHandles \u001b[38;5;241m|\u001b[39m \u001b[38;5;28;01mNone\u001b[39;00m \u001b[38;5;241m=\u001b[39m \u001b[38;5;28;01mNone\u001b[39;00m\n\u001b[0;32m-> 1407\u001b[0m \u001b[38;5;28mself\u001b[39m\u001b[38;5;241m.\u001b[39m_engine \u001b[38;5;241m=\u001b[39m \u001b[38;5;28;43mself\u001b[39;49m\u001b[38;5;241;43m.\u001b[39;49m\u001b[43m_make_engine\u001b[49m\u001b[43m(\u001b[49m\u001b[43mf\u001b[49m\u001b[43m,\u001b[49m\u001b[43m \u001b[49m\u001b[38;5;28;43mself\u001b[39;49m\u001b[38;5;241;43m.\u001b[39;49m\u001b[43mengine\u001b[49m\u001b[43m)\u001b[49m\n",
      "File \u001b[0;32m/opt/conda/lib/python3.11/site-packages/pandas/io/parsers/readers.py:1661\u001b[0m, in \u001b[0;36mTextFileReader._make_engine\u001b[0;34m(self, f, engine)\u001b[0m\n\u001b[1;32m   1659\u001b[0m     \u001b[38;5;28;01mif\u001b[39;00m \u001b[38;5;124m\"\u001b[39m\u001b[38;5;124mb\u001b[39m\u001b[38;5;124m\"\u001b[39m \u001b[38;5;129;01mnot\u001b[39;00m \u001b[38;5;129;01min\u001b[39;00m mode:\n\u001b[1;32m   1660\u001b[0m         mode \u001b[38;5;241m+\u001b[39m\u001b[38;5;241m=\u001b[39m \u001b[38;5;124m\"\u001b[39m\u001b[38;5;124mb\u001b[39m\u001b[38;5;124m\"\u001b[39m\n\u001b[0;32m-> 1661\u001b[0m \u001b[38;5;28mself\u001b[39m\u001b[38;5;241m.\u001b[39mhandles \u001b[38;5;241m=\u001b[39m \u001b[43mget_handle\u001b[49m\u001b[43m(\u001b[49m\n\u001b[1;32m   1662\u001b[0m \u001b[43m    \u001b[49m\u001b[43mf\u001b[49m\u001b[43m,\u001b[49m\n\u001b[1;32m   1663\u001b[0m \u001b[43m    \u001b[49m\u001b[43mmode\u001b[49m\u001b[43m,\u001b[49m\n\u001b[1;32m   1664\u001b[0m \u001b[43m    \u001b[49m\u001b[43mencoding\u001b[49m\u001b[38;5;241;43m=\u001b[39;49m\u001b[38;5;28;43mself\u001b[39;49m\u001b[38;5;241;43m.\u001b[39;49m\u001b[43moptions\u001b[49m\u001b[38;5;241;43m.\u001b[39;49m\u001b[43mget\u001b[49m\u001b[43m(\u001b[49m\u001b[38;5;124;43m\"\u001b[39;49m\u001b[38;5;124;43mencoding\u001b[39;49m\u001b[38;5;124;43m\"\u001b[39;49m\u001b[43m,\u001b[49m\u001b[43m \u001b[49m\u001b[38;5;28;43;01mNone\u001b[39;49;00m\u001b[43m)\u001b[49m\u001b[43m,\u001b[49m\n\u001b[1;32m   1665\u001b[0m \u001b[43m    \u001b[49m\u001b[43mcompression\u001b[49m\u001b[38;5;241;43m=\u001b[39;49m\u001b[38;5;28;43mself\u001b[39;49m\u001b[38;5;241;43m.\u001b[39;49m\u001b[43moptions\u001b[49m\u001b[38;5;241;43m.\u001b[39;49m\u001b[43mget\u001b[49m\u001b[43m(\u001b[49m\u001b[38;5;124;43m\"\u001b[39;49m\u001b[38;5;124;43mcompression\u001b[39;49m\u001b[38;5;124;43m\"\u001b[39;49m\u001b[43m,\u001b[49m\u001b[43m \u001b[49m\u001b[38;5;28;43;01mNone\u001b[39;49;00m\u001b[43m)\u001b[49m\u001b[43m,\u001b[49m\n\u001b[1;32m   1666\u001b[0m \u001b[43m    \u001b[49m\u001b[43mmemory_map\u001b[49m\u001b[38;5;241;43m=\u001b[39;49m\u001b[38;5;28;43mself\u001b[39;49m\u001b[38;5;241;43m.\u001b[39;49m\u001b[43moptions\u001b[49m\u001b[38;5;241;43m.\u001b[39;49m\u001b[43mget\u001b[49m\u001b[43m(\u001b[49m\u001b[38;5;124;43m\"\u001b[39;49m\u001b[38;5;124;43mmemory_map\u001b[39;49m\u001b[38;5;124;43m\"\u001b[39;49m\u001b[43m,\u001b[49m\u001b[43m \u001b[49m\u001b[38;5;28;43;01mFalse\u001b[39;49;00m\u001b[43m)\u001b[49m\u001b[43m,\u001b[49m\n\u001b[1;32m   1667\u001b[0m \u001b[43m    \u001b[49m\u001b[43mis_text\u001b[49m\u001b[38;5;241;43m=\u001b[39;49m\u001b[43mis_text\u001b[49m\u001b[43m,\u001b[49m\n\u001b[1;32m   1668\u001b[0m \u001b[43m    \u001b[49m\u001b[43merrors\u001b[49m\u001b[38;5;241;43m=\u001b[39;49m\u001b[38;5;28;43mself\u001b[39;49m\u001b[38;5;241;43m.\u001b[39;49m\u001b[43moptions\u001b[49m\u001b[38;5;241;43m.\u001b[39;49m\u001b[43mget\u001b[49m\u001b[43m(\u001b[49m\u001b[38;5;124;43m\"\u001b[39;49m\u001b[38;5;124;43mencoding_errors\u001b[39;49m\u001b[38;5;124;43m\"\u001b[39;49m\u001b[43m,\u001b[49m\u001b[43m \u001b[49m\u001b[38;5;124;43m\"\u001b[39;49m\u001b[38;5;124;43mstrict\u001b[39;49m\u001b[38;5;124;43m\"\u001b[39;49m\u001b[43m)\u001b[49m\u001b[43m,\u001b[49m\n\u001b[1;32m   1669\u001b[0m \u001b[43m    \u001b[49m\u001b[43mstorage_options\u001b[49m\u001b[38;5;241;43m=\u001b[39;49m\u001b[38;5;28;43mself\u001b[39;49m\u001b[38;5;241;43m.\u001b[39;49m\u001b[43moptions\u001b[49m\u001b[38;5;241;43m.\u001b[39;49m\u001b[43mget\u001b[49m\u001b[43m(\u001b[49m\u001b[38;5;124;43m\"\u001b[39;49m\u001b[38;5;124;43mstorage_options\u001b[39;49m\u001b[38;5;124;43m\"\u001b[39;49m\u001b[43m,\u001b[49m\u001b[43m \u001b[49m\u001b[38;5;28;43;01mNone\u001b[39;49;00m\u001b[43m)\u001b[49m\u001b[43m,\u001b[49m\n\u001b[1;32m   1670\u001b[0m \u001b[43m\u001b[49m\u001b[43m)\u001b[49m\n\u001b[1;32m   1671\u001b[0m \u001b[38;5;28;01massert\u001b[39;00m \u001b[38;5;28mself\u001b[39m\u001b[38;5;241m.\u001b[39mhandles \u001b[38;5;129;01mis\u001b[39;00m \u001b[38;5;129;01mnot\u001b[39;00m \u001b[38;5;28;01mNone\u001b[39;00m\n\u001b[1;32m   1672\u001b[0m f \u001b[38;5;241m=\u001b[39m \u001b[38;5;28mself\u001b[39m\u001b[38;5;241m.\u001b[39mhandles\u001b[38;5;241m.\u001b[39mhandle\n",
      "File \u001b[0;32m/opt/conda/lib/python3.11/site-packages/pandas/io/common.py:859\u001b[0m, in \u001b[0;36mget_handle\u001b[0;34m(path_or_buf, mode, encoding, compression, memory_map, is_text, errors, storage_options)\u001b[0m\n\u001b[1;32m    854\u001b[0m \u001b[38;5;28;01melif\u001b[39;00m \u001b[38;5;28misinstance\u001b[39m(handle, \u001b[38;5;28mstr\u001b[39m):\n\u001b[1;32m    855\u001b[0m     \u001b[38;5;66;03m# Check whether the filename is to be opened in binary mode.\u001b[39;00m\n\u001b[1;32m    856\u001b[0m     \u001b[38;5;66;03m# Binary mode does not support 'encoding' and 'newline'.\u001b[39;00m\n\u001b[1;32m    857\u001b[0m     \u001b[38;5;28;01mif\u001b[39;00m ioargs\u001b[38;5;241m.\u001b[39mencoding \u001b[38;5;129;01mand\u001b[39;00m \u001b[38;5;124m\"\u001b[39m\u001b[38;5;124mb\u001b[39m\u001b[38;5;124m\"\u001b[39m \u001b[38;5;129;01mnot\u001b[39;00m \u001b[38;5;129;01min\u001b[39;00m ioargs\u001b[38;5;241m.\u001b[39mmode:\n\u001b[1;32m    858\u001b[0m         \u001b[38;5;66;03m# Encoding\u001b[39;00m\n\u001b[0;32m--> 859\u001b[0m         handle \u001b[38;5;241m=\u001b[39m \u001b[38;5;28mopen\u001b[39m(\n\u001b[1;32m    860\u001b[0m             handle,\n\u001b[1;32m    861\u001b[0m             ioargs\u001b[38;5;241m.\u001b[39mmode,\n\u001b[1;32m    862\u001b[0m             encoding\u001b[38;5;241m=\u001b[39mioargs\u001b[38;5;241m.\u001b[39mencoding,\n\u001b[1;32m    863\u001b[0m             errors\u001b[38;5;241m=\u001b[39merrors,\n\u001b[1;32m    864\u001b[0m             newline\u001b[38;5;241m=\u001b[39m\u001b[38;5;124m\"\u001b[39m\u001b[38;5;124m\"\u001b[39m,\n\u001b[1;32m    865\u001b[0m         )\n\u001b[1;32m    866\u001b[0m     \u001b[38;5;28;01melse\u001b[39;00m:\n\u001b[1;32m    867\u001b[0m         \u001b[38;5;66;03m# Binary mode\u001b[39;00m\n\u001b[1;32m    868\u001b[0m         handle \u001b[38;5;241m=\u001b[39m \u001b[38;5;28mopen\u001b[39m(handle, ioargs\u001b[38;5;241m.\u001b[39mmode)\n",
      "\u001b[0;31mFileNotFoundError\u001b[0m: [Errno 2] No such file or directory: '../data/raw/user_plan_history.csv'"
     ]
    }
   ],
   "source": [
    "import pandas as pd\n",
    "\n",
    "files_to_copy = [\n",
    "    (RAW_PATH+\"user_profiles.csv\", PROCESSED_PATH+\"user_profiles.parquet\"),\n",
    "    (RAW_PATH+\"tower_locations.csv\", PROCESSED_PATH+\"tower_locations.parquet\"),\n",
    "    (PROCESSED_PATH+\"user_plan_history.csv\", PROCESSED_PATH+\"user_plan_history.parquet\")\n",
    "]\n",
    "\n",
    "# Copy files\n",
    "for src, dst in files_to_copy:\n",
    "    df = pd.read_csv(src)\n",
    "    df.to_parquet(dst)\n",
    "    print(f\"✅ Copied: {src} → {dst}\")"
   ]
  },
  {
   "cell_type": "code",
   "execution_count": null,
   "id": "99e058bc-dfcd-467e-bded-1c36b9ff348f",
   "metadata": {},
   "outputs": [],
   "source": []
  }
 ],
 "metadata": {
  "kernelspec": {
   "display_name": "Python 3 (ipykernel)",
   "language": "python",
   "name": "python3"
  },
  "language_info": {
   "codemirror_mode": {
    "name": "ipython",
    "version": 3
   },
   "file_extension": ".py",
   "mimetype": "text/x-python",
   "name": "python",
   "nbconvert_exporter": "python",
   "pygments_lexer": "ipython3",
   "version": "3.11.6"
  }
 },
 "nbformat": 4,
 "nbformat_minor": 5
}
